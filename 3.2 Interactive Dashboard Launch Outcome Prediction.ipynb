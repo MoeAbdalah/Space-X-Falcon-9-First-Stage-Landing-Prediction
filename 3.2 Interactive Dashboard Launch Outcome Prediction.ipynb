{
 "cells": [
  {
   "cell_type": "markdown",
   "id": "85f8d9e8",
   "metadata": {},
   "source": [
    "# Interactive Dashboard with Ploty for Space X Launch Sites\n",
    "\n",
    "In this part of our investigation, we generate an interactive dashboard. The app skeleton comprises the title, the dropdown menu where you will choose the launch site used by the Falcon 9 or select all to study the correlation between some variables, two graphs, and a range slider for the payload mass. The first graph will be a pie chart representing the success rate of each launch site. The second will be a scatter plot which will output the payload mass vs. the class (launch outcome). Each point on the scatter plot will mark the different booster versions used. \n",
    "\n",
    "This code has three components: the app layout and two call-back functions, each for the plots. \n",
    "\n",
    "Here are some of the findings: \n",
    "* KSC LC-39A is the launch site with the highest success rate of 77%\n",
    "* Between 2k and 5.5k for the payload mass (kg) there seems to be the highest success rate\n",
    "* The lowest success rate is above 5.5k for the payload mass (kg)\n",
    "* The Falcon 9 booster version FT has the highest success rate"
   ]
  },
  {
   "cell_type": "code",
   "execution_count": null,
   "id": "83c6f47f",
   "metadata": {},
   "outputs": [],
   "source": [
    "# Uncomment if you dont have dash installed\n",
    "# !pip3 install pandas dash"
   ]
  },
  {
   "cell_type": "code",
   "execution_count": null,
   "id": "46713e93",
   "metadata": {},
   "outputs": [],
   "source": [
    "import wget\n",
    "import pandas as pd\n",
    "import dash\n",
    "from dash import html, dcc\n",
    "from dash.dependencies import Input, Output\n",
    "import plotly.express as px"
   ]
  },
  {
   "cell_type": "code",
   "execution_count": null,
   "id": "f1f8ac1f",
   "metadata": {},
   "outputs": [],
   "source": [
    "# Download the data set\n",
    "# !wget \"https://cf-courses-data.s3.us.cloud-object-storage.appdomain.cloud/IBM-DS0321EN-SkillsNetwork/datasets/spacex_launch_dash.csv\""
   ]
  },
  {
   "cell_type": "code",
   "execution_count": null,
   "id": "eaaa8297",
   "metadata": {},
   "outputs": [],
   "source": [
    "# Read the airline data into pandas dataframe\n",
    "spacex_df = pd.read_csv(\"spacex_launch_dash.csv\")\n",
    "max_payload = spacex_df['Payload Mass (kg)'].max()\n",
    "min_payload = spacex_df['Payload Mass (kg)'].min()\n",
    "spacex_df.head()"
   ]
  },
  {
   "cell_type": "code",
   "execution_count": null,
   "id": "5f189fc3",
   "metadata": {},
   "outputs": [],
   "source": [
    "# Create a dash application\n",
    "app = dash.Dash(__name__)\n",
    "\n",
    "# Create an app layout\n",
    "app.layout = html.Div(children=[html.H1('SpaceX Launch Records Dashboard',\n",
    "                style={'textAlign': 'center', 'color': '#503D36','font-size': 40}),\n",
    "               \n",
    "                # Add a dropdown list to enable Launch Site selection\n",
    "                # The default select value is for ALL sites\n",
    "                dcc.Dropdown(id='site-dropdown',\n",
    "                            options=[\n",
    "                                    {'label': 'All Sites', 'value': 'ALL'},\n",
    "                                    {'label': 'CCAFS LC-40', 'value': 'CCAFS LC-40'},\n",
    "                                    {'label': 'CCAFS SLC-40', 'value': 'CCAFS SLC-40'},\n",
    "                                    {'label': 'KSC LC-39A', 'value': 'KSC LC-39A'},\n",
    "                                    {'label': 'VAFB SLC-4E', 'value': 'VAFB SLC-4E'},\n",
    "                                    ],\n",
    "                                    value='ALL',\n",
    "                                    placeholder=\"Select a Launch Site here\",\n",
    "                                    searchable=True\n",
    "                            ),\n",
    "\n",
    "                html.Br(),\n",
    "\n",
    "                # TASK 2: Add a pie chart to show the total successful launches count for all sites\n",
    "                # If a specific launch site was selected, show the Success vs. Failed counts for the site\n",
    "                html.Div(dcc.Graph(id='success-pie-chart')),\n",
    "               \n",
    "                html.Br(),\n",
    "\n",
    "                html.P(\"Payload range (Kg):\"),\n",
    "                # Add a slider to select payload range\n",
    "                dcc.RangeSlider(id='payload-slider',\n",
    "                                min=0, max=10000, step=1000,\n",
    "                                marks={0: '0', 100: '100'},\n",
    "                                value=[min_payload, max_payload]),\n",
    "\n",
    "                # TASK 4: Add a scatter chart to show the correlation between payload and launch success\n",
    "                html.Div(dcc.Graph(id='success-payload-scatter-chart')),\n",
    "                ])      \n"
   ]
  },
  {
   "cell_type": "code",
   "execution_count": null,
   "id": "b10ed4df",
   "metadata": {},
   "outputs": [],
   "source": [
    "# A callback function for `site-dropdown` as input, `success-pie-chart` as output\n",
    "# Function decorator to specify function input and output\n",
    "@app.callback(Output(component_id='success-pie-chart', component_property='figure'),\n",
    "              Input(component_id='site-dropdown', component_property='value'))\n",
    "def get_pie_chart(entered_site):\n",
    "    filtered_df = spacex_df.groupby('Launch Site')['class'].mean().reset_index()\n",
    "    if entered_site == 'ALL':\n",
    "        fig = px.pie(filtered_df, values='class', names='Launch Site', title='Success Rate by Site')\n",
    "        return fig\n",
    "    else:\n",
    "        data_df = filtered_df[filtered_df['Launch Site']==entered_site]\n",
    "        perc = 1-data_df.loc[0,'class']\n",
    "        data_df = data_df.append({'Launch Site': 'Failure', 'class': perc}, ignore_index=True)\n",
    "        fig = px.pie(data_df, values='class', names='Launch Site', title='Success Rate for '+entered_site)\n",
    "        return fig\n",
    "\n",
    "# A callback function for `site-dropdown` and `payload-slider` as inputs, `success-payload-scatter-chart` as output\n",
    "@app.callback(Output(component_id='success-payload-scatter-chart', component_property='figure'),\n",
    "              Input(component_id='site-dropdown', component_property='value'), \n",
    "              Input(component_id='payload-slider', component_property='value'))\n",
    "def get_scatter_plot(entered_site, payload_mass):\n",
    "    filtered_df = spacex_df[['Launch Site', 'Payload Mass (kg)', 'class', 'Booster Version Category']]\n",
    "    filtered_df = filtered_df[filtered_df['Payload Mass (kg)']>payload_mass[0]]\n",
    "    filtered_df = filtered_df[filtered_df['Payload Mass (kg)']<payload_mass[1]]\n",
    "    if entered_site == 'ALL':\n",
    "        fig = px.scatter(filtered_df, x='Payload Mass (kg)', y='class', color='Booster Version Category', symbol='Booster Version Category', title='Success Rate Percentage of All Sites')\n",
    "        return fig\n",
    "    else:\n",
    "        data_df = filtered_df[filtered_df['Launch Site']==entered_site] \n",
    "        fig = px.scatter(filtered_df, x='Payload Mass (kg)', y='class', color='Booster Version Category', symbol='Booster Version Category', title='Success Rate Percentage of '+str(entered_site))\n",
    "        return fig\n",
    "    \n",
    "# Run the app\n",
    "if __name__ == '__main__':\n",
    "    app.run_server()"
   ]
  },
  {
   "cell_type": "code",
   "execution_count": null,
   "id": "5ba7a56a",
   "metadata": {},
   "outputs": [],
   "source": []
  },
  {
   "cell_type": "code",
   "execution_count": null,
   "id": "dfd0d34d",
   "metadata": {},
   "outputs": [],
   "source": []
  }
 ],
 "metadata": {
  "kernelspec": {
   "display_name": "Python 3 (ipykernel)",
   "language": "python",
   "name": "python3"
  },
  "language_info": {
   "codemirror_mode": {
    "name": "ipython",
    "version": 3
   },
   "file_extension": ".py",
   "mimetype": "text/x-python",
   "name": "python",
   "nbconvert_exporter": "python",
   "pygments_lexer": "ipython3",
   "version": "3.8.8"
  }
 },
 "nbformat": 4,
 "nbformat_minor": 5
}
