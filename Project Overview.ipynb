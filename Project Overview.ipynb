{
 "cells": [
  {
   "cell_type": "markdown",
   "id": "c0e76703",
   "metadata": {},
   "source": [
    "<h1><center>Space X Falcon 9 first stage Landing Prediction</h1>\n",
    "\n",
    "\n",
    "#### About this project:\n",
    "**The aim** is to predict whether the falcon 9 first stage(booster stage) **will land successfuly**, and hence determining its cost of launch. <br>\n",
    "**The cost** advertised by Space X for every launch is given as **62 million dollars**, some estimates are at 165 million dollars. <br>\n"
   ]
  },
  {
   "cell_type": "markdown",
   "id": "cfa9326e",
   "metadata": {},
   "source": [
    "![](https://cdn.mos.cms.futurecdn.net/JxzUZN8rtTNUGaViboRvXY-970-80.jpg.webp)"
   ]
  },
  {
   "cell_type": "markdown",
   "id": "01b86088",
   "metadata": {},
   "source": [
    "![](https://cf-courses-data.s3.us.cloud-object-storage.appdomain.cloud/IBM-DS0321EN-SkillsNetwork/labs/module\\_1\\_L2/images/Falcon9\\_rocket_family.svg)"
   ]
  },
  {
   "cell_type": "markdown",
   "id": "d7d5591e",
   "metadata": {},
   "source": [
    "## Orbits\n",
    "#### List of Different Orbits\n",
    "*   <b>LEO</b>: Low Earth orbit (LEO)is an Earth-centred orbit with an altitude of 2,000 km (1,200 mi) or less (approximately one-third of the radius of Earth),\\[1] or with at least 11.25 periods per day (an orbital period of 128 minutes or less) and an eccentricity less than 0.25.\\[2] Most of the manmade objects in outer space are in LEO <a href='https://en.wikipedia.org/wiki/Low_Earth_orbit?utm_medium=Exinfluencer&utm_source=Exinfluencer&utm_content=000026UJ&utm_term=10006555&utm_id=NA-SkillsNetwork-Channel-SkillsNetworkCoursesIBMDS0321ENSkillsNetwork26802033-2021-01-01'>\\[1]</a>.\n",
    "\n",
    "*   <b>VLEO</b>: Very Low Earth Orbits (VLEO) can be defined as the orbits with a mean altitude below 450 km. Operating in these orbits can provide a number of benefits to Earth observation spacecraft as the spacecraft operates closer to the observation<a href='https://www.researchgate.net/publication/271499606_Very_Low_Earth_Orbit_mission_concepts_for_Earth_Observation_Benefits_and_challenges?utm_medium=Exinfluencer&utm_source=Exinfluencer&utm_content=000026UJ&utm_term=10006555&utm_id=NA-SkillsNetwork-Channel-SkillsNetworkCoursesIBMDS0321ENSkillsNetwork26802033-2021-01-01'>\\[2]</a>.\n",
    "\n",
    "*   <b>GTO</b> A geosynchronous orbit is a high Earth orbit that allows satellites to match Earth's rotation. Located at 22,236 miles (35,786 kilometers) above Earth's equator, this position is a valuable spot for monitoring weather, communications and surveillance. Because the satellite orbits at the same speed that the Earth is turning, the satellite seems to stay in place over a single longitude, though it may drift north to south,” NASA wrote on its Earth Observatory website <a  href=\"https://www.space.com/29222-geosynchronous-orbit.html?utm_medium=Exinfluencer&utm_source=Exinfluencer&utm_content=000026UJ&utm_term=10006555&utm_id=NA-SkillsNetwork-Channel-SkillsNetworkCoursesIBMDS0321ENSkillsNetwork26802033-2021-01-01\" >\\[3] </a>.\n",
    "\n",
    "*   <b>SSO (or SO)</b>: It is a Sun-synchronous orbit  also called a heliosynchronous orbit is a nearly polar orbit around a planet, in which the satellite passes over any given point of the planet's surface at the same local mean solar time <a href=\"https://en.wikipedia.org/wiki/Sun-synchronous_orbit?utm_medium=Exinfluencer&utm_source=Exinfluencer&utm_content=000026UJ&utm_term=10006555&utm_id=NA-SkillsNetwork-Channel-SkillsNetworkCoursesIBMDS0321ENSkillsNetwork26802033-2021-01-01\">\\[4] <a>.\n",
    "\n",
    "*   <b>ES-L1 </b>:At the Lagrange points the gravitational forces of the two large bodies cancel out in such a way that a small object placed in orbit there is in equilibrium relative to the center of mass of the large bodies. L1 is one such point between the sun and the earth <a href=\"https://en.wikipedia.org/wiki/Lagrange_point?utm_medium=Exinfluencer&utm_source=Exinfluencer&utm_content=000026UJ&utm_term=10006555&utm_id=NA-SkillsNetwork-Channel-SkillsNetworkCoursesIBMDS0321ENSkillsNetwork26802033-2021-01-01#L1_point\">\\[5]</a> .\n",
    "\n",
    "*   <b>HEO</b> A highly elliptical orbit, is an elliptic orbit with high eccentricity, usually referring to one around Earth <a href=\"https://en.wikipedia.org/wiki/Highly_elliptical_orbit?utm_medium=Exinfluencer&utm_source=Exinfluencer&utm_content=000026UJ&utm_term=10006555&utm_id=NA-SkillsNetwork-Channel-SkillsNetworkCoursesIBMDS0321ENSkillsNetwork26802033-2021-01-01\">\\[6]</a>.\n",
    "\n",
    "*   <b> ISS </b> A modular space station (habitable artificial satellite) in low Earth orbit. It is a multinational collaborative project between five participating space agencies: NASA (United States), Roscosmos (Russia), JAXA (Japan), ESA (Europe), and CSA (Canada)<a href=\"https://en.wikipedia.org/wiki/International_Space_Station?utm_medium=Exinfluencer&utm_source=Exinfluencer&utm_content=000026UJ&utm_term=10006555&utm_id=NA-SkillsNetwork-Channel-SkillsNetworkCoursesIBMDS0321ENSkillsNetwork26802033-2021-01-01\"> \\[7] </a>\n",
    "\n",
    "*   <b> MEO </b> Geocentric orbits ranging in altitude from 2,000 km (1,200 mi) to just below geosynchronous orbit at 35,786 kilometers (22,236 mi). Also known as an intermediate circular orbit. These are \"most commonly at 20,200 kilometers (12,600 mi), or 20,650 kilometers (12,830 mi), with an orbital period of 12 hours <a href=\"https://en.wikipedia.org/wiki/List_of_orbits?utm_medium=Exinfluencer&utm_source=Exinfluencer&utm_content=000026UJ&utm_term=10006555&utm_id=NA-SkillsNetwork-Channel-SkillsNetworkCoursesIBMDS0321ENSkillsNetwork26802033-2021-01-01\"> \\[8] </a>\n",
    "\n",
    "*   <b> HEO </b> Geocentric orbits above the altitude of geosynchronous orbit (35,786 km or 22,236 mi) <a href=\"https://en.wikipedia.org/wiki/List_of_orbits?utm_medium=Exinfluencer&utm_source=Exinfluencer&utm_content=000026UJ&utm_term=10006555&utm_id=NA-SkillsNetwork-Channel-SkillsNetworkCoursesIBMDS0321ENSkillsNetwork26802033-2021-01-01\"> \\[9] </a>\n",
    "\n",
    "*   <b> GEO </b> It is a circular geosynchronous orbit 35,786 kilometres (22,236 miles) above Earth's equator and following the direction of Earth's rotation <a href=\"https://en.wikipedia.org/wiki/Geostationary_orbit?utm_medium=Exinfluencer&utm_source=Exinfluencer&utm_content=000026UJ&utm_term=10006555&utm_id=NA-SkillsNetwork-Channel-SkillsNetworkCoursesIBMDS0321ENSkillsNetwork26802033-2021-01-01\"> \\[10] </a>\n",
    "\n",
    "*   <b> PO </b> It is one type of satellites in which a satellite passes above or nearly above both poles of the body being orbited (usually a planet such as the Earth <a href=\"https://en.wikipedia.org/wiki/Polar_orbit?utm_medium=Exinfluencer&utm_source=Exinfluencer&utm_content=000026UJ&utm_term=10006555&utm_id=NA-SkillsNetwork-Channel-SkillsNetworkCoursesIBMDS0321ENSkillsNetwork26802033-2021-01-01\"> \\[11] </a>\n"
   ]
  },
  {
   "cell_type": "markdown",
   "id": "9a7e2b98",
   "metadata": {},
   "source": [
    "## Data Collection  \n",
    "### 1) Data collection through Space X API using HTML requests \n",
    "\n",
    "After having imported the necessary libraries, we define some functions that will help us retrieve the data from the Space X API using the following link: <a href=\"https://api.spacexdata.com/v4/launches/past\">Space X API</a>\n",
    "\n",
    "**There are 4 helper functions:** \n",
    "* <code>getBoosterVersion</code>: Returns the booster name\n",
    "* <code>getLaunchSite</code>: Returns the coordinates for the launch sites\n",
    "* <code>getPayLoadData</code>: Returns the Payload mass and Orbit destination\n",
    "* <code>getCoreData</code>: Returns the following:\n",
    "    * The type of landing, number of flights with that core, whether grid fins  were used\n",
    "    * Whether the core is reused, whether legs were used, the landing pad used\n",
    "    * The block of the core which is a number used to seperate version of cores\n",
    "    * The number of times this specific core has been reused, and the serial of the core.\n",
    "    \n",
    "For consistancy we download a static json file using the following link:<a href=\"https://cf-courses-data.s3.us.cloud-object-storage.appdomain.cloud/IBM-DS0321EN-SkillsNetwork/datasets/API_call_spacex_api.json\">Space X API JSON</a> <br> \n",
    "We notice that a lot of the information is given as ids, so we now retrieve the information using the API. Our data columns will include the rocket, payloads, launchpad, and cores. \n",
    "\n",
    "Next, we clean the data by including only the relevant columns and values necessary, such as the additional booster names found in the same cell, converting the date and time to a manageable format, removing the time, and filtering out the data to include only Flacon 9 launches. \n",
    "\n",
    "We call our helper function using the cleaned data set; a new set is created and converted into a pandas data frame. \n",
    "\n",
    "After some data wrangling, we notice that payload mass is missing 5 values,  26 values missing are None values representing that the pad was not used. The missing values for the payload are replaced with the mean. "
   ]
  },
  {
   "cell_type": "markdown",
   "id": "ba1ac652",
   "metadata": {},
   "source": [
    "### 2) Data collection trough webscraping using beautifulsoup \n",
    "\n",
    "We import the necessary libraries, such as beatifulsoup, and define some helper functions. The data is retrieved using the following Wikipedia page: <a href=\"https://en.wikipedia.org/w/index.php?title=List_of_Falcon_9_and_Falcon_Heavy_launches&oldid=1027686922\" >Falcon 9</a>\n",
    "\n",
    "**There are 5 helper functions:**\n",
    "* <code>date_time</code>: Returns the date and time of the launch\n",
    "* <code>booster_version</code>: Returns the booster version name \n",
    "* <code>landing_status</code>: Returns the landing status\n",
    "* <code>get_mass</code>: Returns the payload mass in kg \n",
    "* <code>exctract_column_from_header</code>: Returns the landing status\n",
    "\n",
    "Now we build our data set. First we extract all of the column header names, and create variables which will hold the values to each corresponding header each row at a time. Secondly this new data set or dictionary is converted into a pandas data frame, and finaly saved as a csv file called **dataset_part_1**.  "
   ]
  },
  {
   "cell_type": "markdown",
   "id": "9381e48f",
   "metadata": {},
   "source": [
    "## Data Wrangling\n",
    "\n",
    "Here we perform data wrangling or Exploratory Data Analysis (EDA) to determine the correlations between the variables and their effects on the landing outcome. Finally, we set them as the labels for the supervised training model.\n",
    "\n",
    "We can use the following link to download the data set <a href=\"https://cf-courses-data.s3.us.cloud-object-storage.appdomain.cloud/IBM-DS0321EN-SkillsNetwork/datasets/dataset_part_1.csv\">dataset_part_1</a>, or we use the data set that we have saved during web scraping called dataset_part_1.\n",
    "\n",
    "The purpose of this stage is to create a column called Class, where we could include a binary value to determine whether the outcome of each booster stage was a success or a failure. The final file is saved as dataset_part_2.csv.\n",
    "\n",
    "The mean of our new column class was then calculated as 0.66; hence the Falcon 9 first stage booster had a 66% success rate."
   ]
  },
  {
   "cell_type": "markdown",
   "id": "4f003483",
   "metadata": {},
   "source": [
    "## Exploratory Data Analysis (EDA) wtih SQL \n",
    "\n",
    "In this section the data is explored using SQL. After having imported and installed relevant libraries, we load the data which has been uploaded to the db2 data base for manipulation. We use the following string to import the data, the variables are retrieved from the user credentials. \n",
    "\n",
    "<code>%sql ibm_db_sa://my-username:my-password@my-hostname:my-port/my-db-name?security=SSL</code>\n",
    "\n",
    "These are relevant details that were aquired using SQL queries:\n",
    "* Display the names of the unique launch sites in the space mission\n",
    "* Total payload mass carried by NASA during Commercial Resupply Services (CRS)\n",
    "* Average payload mass carried by booster version F9 v1.1\n",
    "* The date when the first successful landing outcome in ground pad was acheived.\n",
    "* The names of the boosters which have success in drone ship and have payload mass greater than 4000 but less than 6000\n",
    "* The total number of successful and failure mission outcomes\n",
    "* The names of the booster_versions which have carried the maximum payload mass.\n",
    "* The failed landing_outcomes in drone ship, their booster versions, and launch site names for in year 2015\n",
    "* The count of landing outcomes (such as Failure (drone ship) or Success (ground pad)) between the date 2010-06-04 and 2017-03-20, in descending order"
   ]
  },
  {
   "cell_type": "markdown",
   "id": "5a1d0ce2",
   "metadata": {},
   "source": [
    "## Exploratory Data Analysis (EDA) with Data Visualization\n",
    "\n",
    "Here we use the matplotlib and seaborn libraries to perform EDA. The data set used can be downloaded either using the following link: <a href=\"https://cf-courses-data.s3.us.cloud-object-storage.appdomain.cloud/IBMDeveloperSkillsNetwork-DS0701EN-SkillsNetwork/api/dataset_part_2.csv\">dataset_part_2</a>, or by downloading the prepared set in the data wrangling section dataset_part_2.csv. \n",
    "\n",
    "### Variables effect on the Launch Outcome\n",
    "#### Flight Number and Payload Mass\n",
    "Plot: Scatter <br> \n",
    "Different launch sites have different success rates.  <code>CCAFS LC-40</code>, has a success rate of 60 %, while <code>KSC LC-39A</code> and <code>VAFB SLC 4E</code> has a success rate of 77%.\n",
    "#### Flight Number and Launch Site\n",
    "Plot: Scatter <br> \n",
    "The most successful launch site is <code>VAFB SLC 4E</code>, with the least ammount of failures compared to their flight numbers. \n",
    "#### Payload Mass and Launch Site \n",
    "Plot: Scatter <br> \n",
    "Launch site seems to have the biggest impact on the outcome, but we notice higher payloads have had much higher success rates. <br>\n",
    "We find the VAFB-SLC  launch site, there are no rockets launched for heavy payload mass(greater than 10000).\n",
    "#### Success Rate of each Orbit \n",
    "Plot: Bar <br> \n",
    "There are 4 Orbitals with a 100% success rate:\n",
    "* ES-L1: A point between the earth and the sun where the gravitational pull between two bodies is canceled out. \n",
    "* GEO: Geosynchronous orbit around the equator of the earth. \n",
    "* HEO: A highly elliptical orbit.\n",
    "* SSO: Sun-synchronous orbit. \n",
    "\n",
    "#### Flight Number and Orbit \n",
    "Plot: Scatter <br>\n",
    "You should see that in the LEO orbit, the Success appears related to the number of flights; on the other hand, there seems to be no relationship between flight numbers when in GTO orbit.\n",
    "#### Payload Mass and Orbit \n",
    "Plot: Scatter <br>\n",
    "The successful landing or positive landing rate is more for Polar, LEO, and ISS with heavy payloads.<br>\n",
    "However, for GTO, we cannot distinguish this well as both positive landing rate, and negative landing are present.\n",
    "#### Launch Success Yearly Trend\n",
    "Plot: Line <br>\n",
    "There has been a spike in the success rate after the year 2013. The highest success rate recorded reached almost 88% in 2019, and a dip around the year 2018.  \n",
    "\n",
    "### One Hot Encoding\n",
    "This step is a crucial step to complete the predictive analysis on the data set. A one hot encoding is a representation of categorical variables as binary vectors. This first requires that the categorical values be mapped to integer values. To do so we use the <code>get_dummies</code> function and see that our new data set has one column for each variable in the selected features, we end up having 80 columns.\n",
    "\n",
    "Finally we export the data as a csv file called **dataset_part_3**"
   ]
  },
  {
   "cell_type": "markdown",
   "id": "71ee52be",
   "metadata": {},
   "source": [
    "## Interactive Visual Analytics with Folium\n",
    "\n",
    "Using Folium, we design visual analytics, which would help us understand the geographic impact on the success rate for the launch site locations. There are three steps to creating this interactive map of the launch sites; we first mark all launch sites on the map. Secondly, we label each launch site's failed and successful launch outcomes in their respective areas using markerclusters. Finally, calculate the distance between the launch site and different proximities such as; railway connections, highways, coastlines, and cities. \n",
    "Along the process the data is cleaned and manipulated through different functions such as <code>assign_marker_color</code>."
   ]
  },
  {
   "cell_type": "markdown",
   "id": "d27e38eb",
   "metadata": {},
   "source": [
    "## Interactive Dashboard with Plotly\n",
    "Python code examples for dashboards are meant to be saved as files and executed using python app.py. You can also use Jupyter with the JupyterDash library.\n",
    "\n",
    "In this part of our investigation, we generate an interactive dashboard. The app skeleton comprises the title, the dropdown menu where you will choose the launch site used by the Falcon 9 or select all to study the correlation between some variables, two graphs, and a range slider for the payload mass. The first graph will be a pie chart representing the success rate of each launch site. The second will be a scatter plot which will output the payload mass vs. the class (launch outcome). Each point on the scatter plot will mark the different booster versions used. \n",
    "\n",
    "This code has three components: the app layout and two call-back functions, each for the plots. \n",
    "\n",
    "\n",
    "Here are some of the findings: \n",
    "* KSC LC-39A is the launch site with the highest success rate of 77%\n",
    "* Between 2k and 5.5k for the payload mass (kg) there seems to be the highest success rate\n",
    "* The lowest success rate is above 5.5k for the payload mass (kg)\n",
    "* The Falcon 9 booster version FT has the highest success rate"
   ]
  },
  {
   "cell_type": "markdown",
   "id": "a4c85190",
   "metadata": {},
   "source": [
    "## Predictive Analysis (Classification)\n",
    "\n",
    "This section of the analysis uses machine learning to predict future outcomes. Using multiple classifications and determining their accuracy through the confusion matrix and the score is the point. After splitting the data into a training set and testing set, we set the parameters to the model using four models; Logistic Regression, Support Vector Machine (SVM), Decision Tree, and K Nearest Neighbours. The best training fitting parameters were deduced using <code>GridSearchCV</code>. The confusion matrix was created using a helper function called <code>plot_confusion_matrix</code>. \n",
    "\n",
    "\n",
    "**Score Report**: \n",
    "* KNN = 0.7777777777777778\n",
    "* Tree = 0.8333333333333334\n",
    "* SVM = 0.7777777777777778\n",
    "* LR = 0.8333333333333334\n",
    "\n",
    "**Observations:** <br>\n",
    "**LR:** Examining the confusion matrix, we see that logistic regression can distinguish between the different classes. We see that the major problem is false positives.<br>\n",
    "**SVM:** We can see that the model has correctly predicted the successful landing, in the case for unsuccssful ones we have three false positives and three true negative. <br>\n",
    "**Tree:** We notice that the results for all of the confusion matrix show similarities in the Landed labels, but the decision tree performance has had the lowest score so far but the deicion tree has had the highest percentage of false negatives and true positives. <br>\n",
    "**KNN:** \n",
    "This model has evaluated has evaluated with the lowest score amongst all, but has the same confusion matrix between as the rest. "
   ]
  },
  {
   "cell_type": "markdown",
   "id": "02d8329d",
   "metadata": {},
   "source": [
    "## Conclusion\n"
   ]
  },
  {
   "cell_type": "code",
   "execution_count": null,
   "id": "b25c3a2d",
   "metadata": {},
   "outputs": [],
   "source": []
  }
 ],
 "metadata": {
  "kernelspec": {
   "display_name": "Python 3 (ipykernel)",
   "language": "python",
   "name": "python3"
  },
  "language_info": {
   "codemirror_mode": {
    "name": "ipython",
    "version": 3
   },
   "file_extension": ".py",
   "mimetype": "text/x-python",
   "name": "python",
   "nbconvert_exporter": "python",
   "pygments_lexer": "ipython3",
   "version": "3.8.8"
  }
 },
 "nbformat": 4,
 "nbformat_minor": 5
}
